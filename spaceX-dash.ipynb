{
 "cells": [
  {
   "cell_type": "markdown",
   "id": "2cf52e06",
   "metadata": {},
   "source": [
    "# 🚀 SpaceX Launch Dashboard\n",
    "This Jupyter notebook includes all tasks from the completed SpaceX dashboard project using Plotly Dash."
   ]
  },
  {
   "cell_type": "markdown",
   "id": "03ab0de6",
   "metadata": {},
   "source": [
    "## 📥 Task 1: Load Dataset and Prepare Dropdown Options"
   ]
  },
  {
   "cell_type": "code",
   "execution_count": null,
   "id": "4a2be9b8",
   "metadata": {},
   "outputs": [],
   "source": [
    "import pandas as pd\n",
    "import plotly.express as px\n",
    "from dash import Dash, dcc, html\n",
    "from dash.dependencies import Input, Output\n",
    "\n",
    "# Load dataset\n",
    "spacex_df = pd.read_csv('spacex_launch_dash.csv')\n",
    "spacex_df.head()"
   ]
  },
  {
   "cell_type": "code",
   "execution_count": null,
   "id": "b708b98b",
   "metadata": {},
   "outputs": [],
   "source": [
    "# Extract unique launch sites\n",
    "launch_sites = spacex_df['Launch Site'].unique().tolist()\n",
    "dropdown_options = [{'label': 'All Sites', 'value': 'ALL'}] + \\\n",
    "                   [{'label': site, 'value': site} for site in launch_sites]"
   ]
  },
  {
   "cell_type": "markdown",
   "id": "1e77e584",
   "metadata": {},
   "source": [
    "## 🎯 Task 2: Pie Chart of Launch Successes"
   ]
  },
  {
   "cell_type": "code",
   "execution_count": null,
   "id": "cba69fa7",
   "metadata": {},
   "outputs": [],
   "source": [
    "# Pie chart showing total success count for all sites\n",
    "fig_all = px.pie(spacex_df, names='Launch Site', values='class',\n",
    "                 title='Total Successful Launches by Site')\n",
    "fig_all.show()"
   ]
  },
  {
   "cell_type": "code",
   "execution_count": null,
   "id": "63f681e5",
   "metadata": {},
   "outputs": [],
   "source": [
    "# Pie chart for a specific site\n",
    "site = 'CCAFS LC-40'\n",
    "filtered_df = spacex_df[spacex_df['Launch Site'] == site]\n",
    "outcome_counts = filtered_df['class'].value_counts().reset_index()\n",
    "outcome_counts.columns = ['Outcome', 'Count']\n",
    "outcome_counts['Outcome'] = outcome_counts['Outcome'].map({1: 'Success', 0: 'Failure'})\n",
    "fig_site = px.pie(outcome_counts, names='Outcome', values='Count',\n",
    "                  title=f'Success vs Failure for {site}')\n",
    "fig_site.show()"
   ]
  },
  {
   "cell_type": "markdown",
   "id": "8dcaa38a",
   "metadata": {},
   "source": [
    "## 📈 Task 3: Range Slider for Payload"
   ]
  },
  {
   "cell_type": "code",
   "execution_count": null,
   "id": "8c078e29",
   "metadata": {},
   "outputs": [],
   "source": [
    "# Determine min and max payload\n",
    "min_payload = spacex_df['Payload Mass (kg)'].min()\n",
    "max_payload = spacex_df['Payload Mass (kg)'].max()\n",
    "min_payload, max_payload"
   ]
  },
  {
   "cell_type": "markdown",
   "id": "723da022",
   "metadata": {},
   "source": [
    "## 🌌 Task 4: Scatter Plot of Payload vs Launch Outcome"
   ]
  },
  {
   "cell_type": "code",
   "execution_count": null,
   "id": "f4311b24",
   "metadata": {},
   "outputs": [],
   "source": [
    "# Scatter plot of payload vs success for all sites\n",
    "scatter_all = px.scatter(spacex_df, x='Payload Mass (kg)', y='class',\n",
    "                          color='Booster Version Category',\n",
    "                          title='Payload vs Outcome (All Sites)')\n",
    "scatter_all.show()"
   ]
  },
  {
   "cell_type": "code",
   "execution_count": null,
   "id": "b04a761e",
   "metadata": {},
   "outputs": [],
   "source": [
    "# Scatter plot for a specific site and payload range\n",
    "site = 'KSC LC-39A'\n",
    "low, high = 2000, 6000\n",
    "filtered_df = spacex_df[(spacex_df['Launch Site'] == site) &\n",
    "                        (spacex_df['Payload Mass (kg)'] >= low) &\n",
    "                        (spacex_df['Payload Mass (kg)'] <= high)]\n",
    "scatter_site = px.scatter(filtered_df, x='Payload Mass (kg)', y='class',\n",
    "                           color='Booster Version Category',\n",
    "                           title=f'Payload vs Outcome for {site} (Payload {low}-{high}kg)')\n",
    "scatter_site.show()"
   ]
  }
 ],
 "metadata": {},
 "nbformat": 4,
 "nbformat_minor": 5
}